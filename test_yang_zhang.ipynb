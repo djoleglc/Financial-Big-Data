{
 "cells": [
  {
   "cell_type": "code",
   "execution_count": 1,
   "id": "8db9ce8a",
   "metadata": {},
   "outputs": [
    {
     "name": "stdout",
     "output_type": "stream",
     "text": [
      "[*********************100%***********************]  1 of 1 completed\n"
     ]
    }
   ],
   "source": [
    "from utils import *\n",
    "import yfinance as yf\n",
    "import matplotlib.pyplot as plt\n",
    "from yahoo_fin import stock_info as si \n",
    "import numpy as np \n",
    "import fbm\n",
    "\n",
    "name = \"AD\"\n",
    "download_daily_data(name)\n",
    "price = load_daily_raw_data(name)\n",
    "\n",
    "\n"
   ]
  },
  {
   "cell_type": "code",
   "execution_count": 4,
   "id": "ee754fc0",
   "metadata": {},
   "outputs": [
    {
     "name": "stdout",
     "output_type": "stream",
     "text": [
      "(3.3048601761687233, 0.048625827033054875)\n"
     ]
    }
   ],
   "source": [
    "vol = yang_zhang_vol(price, 0.1)\n",
    "log_vol = np.log(vol)\n",
    "print(get_H(log_vol))"
   ]
  }
 ],
 "metadata": {
  "kernelspec": {
   "display_name": "Python 3 (ipykernel)",
   "language": "python",
   "name": "python3"
  },
  "language_info": {
   "codemirror_mode": {
    "name": "ipython",
    "version": 3
   },
   "file_extension": ".py",
   "mimetype": "text/x-python",
   "name": "python",
   "nbconvert_exporter": "python",
   "pygments_lexer": "ipython3",
   "version": "3.9.7"
  }
 },
 "nbformat": 4,
 "nbformat_minor": 5
}
